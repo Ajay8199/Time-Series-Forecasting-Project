{
 "cells": [
  {
   "cell_type": "code",
   "execution_count": null,
   "id": "a223a63c",
   "metadata": {},
   "outputs": [],
   "source": [
    "import pandas as pd\n",
    "import numpy as np\n",
    "import matplotlib.pyplot as plt\n",
    "from pandas.plotting import lag_plot\n",
    "from statsmodels.graphics.tsaplots import plot_acf\n",
    "from pandas import DataFrame\n",
    "from pandas import Grouper\n",
    "import seaborn as sns\n",
    "from statsmodels.tsa.seasonal import seasonal_decompose"
   ]
  },
  {
   "cell_type": "code",
   "execution_count": null,
   "id": "fe4f9591",
   "metadata": {},
   "outputs": [],
   "source": [
    "# data imported\n",
    "data=pd.read_csv('Book3.csv',header=0, index_col=0, parse_dates=True)"
   ]
  },
  {
   "cell_type": "markdown",
   "id": "350bbca3",
   "metadata": {},
   "source": [
    "# EDA & Preprocessing"
   ]
  },
  {
   "cell_type": "code",
   "execution_count": null,
   "id": "9e091b43",
   "metadata": {},
   "outputs": [],
   "source": [
    "#shape\n",
    "data.shape"
   ]
  },
  {
   "cell_type": "code",
   "execution_count": null,
   "id": "7cf5cdde",
   "metadata": {},
   "outputs": [],
   "source": [
    "data.head()"
   ]
  },
  {
   "cell_type": "markdown",
   "id": "ef9d54ae",
   "metadata": {},
   "source": [
    "# Upsampling data Yearly to Monthly"
   ]
  },
  {
   "cell_type": "code",
   "execution_count": null,
   "id": "72331c23",
   "metadata": {},
   "outputs": [],
   "source": [
    "upsampled = data.resample('M').mean()\n",
    "print(upsampled.head(24))"
   ]
  },
  {
   "cell_type": "code",
   "execution_count": null,
   "id": "3cf7c0ab",
   "metadata": {},
   "outputs": [],
   "source": [
    "# interplote null value\n",
    "interpolated = upsampled.interpolate(method='linear')\n",
    "print(interpolated.head(24))\n"
   ]
  },
  {
   "cell_type": "code",
   "execution_count": null,
   "id": "2475ea81",
   "metadata": {},
   "outputs": [],
   "source": [
    "# export new montly data file\n",
    "interpolated.to_csv('Inflation Rate  (montly).csv',index=True)"
   ]
  },
  {
   "cell_type": "code",
   "execution_count": null,
   "id": "ef5b643b",
   "metadata": {},
   "outputs": [],
   "source": [
    "interpolated.describe()"
   ]
  },
  {
   "cell_type": "code",
   "execution_count": null,
   "id": "31a042db",
   "metadata": {},
   "outputs": [],
   "source": [
    "# checking null values\n",
    "interpolated.isnull().sum()"
   ]
  },
  {
   "cell_type": "code",
   "execution_count": null,
   "id": "b4a27d0d",
   "metadata": {},
   "outputs": [],
   "source": [
    "# getting information\n",
    "interpolated.info()"
   ]
  },
  {
   "cell_type": "code",
   "execution_count": null,
   "id": "9e973754",
   "metadata": {},
   "outputs": [],
   "source": [
    "# line plot\n",
    "plt.figure(figsize=(18,5))\n",
    "plt.plot(interpolated['inflation_rate'], color = 'blue', linewidth=3)\n",
    "plt.xlabel('Year')\n",
    "plt.ylabel('inflation rate')\n",
    "plt.title (\"Line Plot of Inflation Rate\")\n",
    "plt.show()"
   ]
  },
  {
   "cell_type": "code",
   "execution_count": null,
   "id": "e9487eed",
   "metadata": {},
   "outputs": [],
   "source": [
    "# histplot\n",
    "sns.histplot(data=interpolated, x=\"inflation_rate\", color=\"lime\")\n",
    "plt.show()"
   ]
  },
  {
   "cell_type": "code",
   "execution_count": null,
   "id": "71ee6ce9",
   "metadata": {},
   "outputs": [],
   "source": [
    "# Distplot\n",
    "interpolated.inflation_rate.plot(kind='kde')\n",
    "plt.show()"
   ]
  },
  {
   "cell_type": "code",
   "execution_count": null,
   "id": "08ee8d36",
   "metadata": {},
   "outputs": [],
   "source": [
    "# boxplot\n",
    "sns.boxplot(data=interpolated['inflation_rate'],color='yellow')\n",
    "plt.show()"
   ]
  },
  {
   "cell_type": "code",
   "execution_count": null,
   "id": "c737e08a",
   "metadata": {},
   "outputs": [],
   "source": [
    "# seasonal decompose graph\n",
    "plt.figure(figsize=(18,5))\n",
    "decompose_ts_add = seasonal_decompose(interpolated.inflation_rate,period=12)\n",
    "decompose_ts_add.plot()\n",
    "plt.show()"
   ]
  },
  {
   "cell_type": "code",
   "execution_count": null,
   "id": "8d715f23",
   "metadata": {},
   "outputs": [],
   "source": [
    "# 1step lag graph\n",
    "lag_plot(interpolated.inflation_rate)\n",
    "plt.show()"
   ]
  },
  {
   "cell_type": "code",
   "execution_count": null,
   "id": "fae5ffe9",
   "metadata": {
    "scrolled": true
   },
   "outputs": [],
   "source": [
    "# auto corelation plot\n",
    "plot_acf(interpolated.inflation_rate,lags=30)\n",
    "plt.show()"
   ]
  },
  {
   "cell_type": "code",
   "execution_count": null,
   "id": "448886a4",
   "metadata": {},
   "outputs": [],
   "source": [
    "data=pd.read_csv('Inflation Rate  (montly).csv',header=0)\n",
    "data"
   ]
  },
  {
   "cell_type": "code",
   "execution_count": null,
   "id": "8f5fc6d7",
   "metadata": {},
   "outputs": [],
   "source": [
    "# creating some features for model based approach\n",
    "data['t']=np.arange(1,(len(data)+1))\n",
    "data['t_square']=data['t']*data['t']\n",
    "data['log_rate']=np.log(data['inflation_rate'])\n",
    "data['year_'] = pd.to_datetime(data['year']).dt.year\n",
    "data['month'] = pd.to_datetime(data['year']).dt.month_name()\n"
   ]
  },
  {
   "cell_type": "code",
   "execution_count": null,
   "id": "7b7d00cc",
   "metadata": {},
   "outputs": [],
   "source": [
    "data.head()"
   ]
  },
  {
   "cell_type": "code",
   "execution_count": null,
   "id": "8af8cd10",
   "metadata": {},
   "outputs": [],
   "source": [
    "# heat map of month and year\n",
    "plt.figure(figsize=(17,22))\n",
    "heatmap_y_month = pd.pivot_table(data=data,values=\"inflation_rate\",index=\"year_\",columns=\"month\",aggfunc=\"mean\",fill_value=0)\n",
    "sns.heatmap(heatmap_y_month,annot=True,fmt=\"g\") "
   ]
  },
  {
   "cell_type": "code",
   "execution_count": null,
   "id": "737407da",
   "metadata": {},
   "outputs": [],
   "source": [
    "df=pd.get_dummies(data.month)"
   ]
  },
  {
   "cell_type": "code",
   "execution_count": null,
   "id": "77ea69b7",
   "metadata": {},
   "outputs": [],
   "source": [
    "data_1=data.join(df)"
   ]
  },
  {
   "cell_type": "code",
   "execution_count": null,
   "id": "b1dc79f8",
   "metadata": {},
   "outputs": [],
   "source": [
    "data_1"
   ]
  },
  {
   "cell_type": "markdown",
   "id": "2b85f700",
   "metadata": {},
   "source": [
    "# MODEL BASED METHODS"
   ]
  },
  {
   "cell_type": "markdown",
   "id": "7d9025cb",
   "metadata": {},
   "source": [
    "# LINEAR MODEL"
   ]
  },
  {
   "cell_type": "code",
   "execution_count": null,
   "id": "c9b5f95b",
   "metadata": {},
   "outputs": [],
   "source": [
    "Train = data_1.head(345)\n",
    "Test = data_1.tail(148)"
   ]
  },
  {
   "cell_type": "code",
   "execution_count": null,
   "id": "5470f817",
   "metadata": {},
   "outputs": [],
   "source": [
    "def RMSE(org, pred):\n",
    "    rmse=np.sqrt(np.mean((np.array(org)-np.array(pred))**2))\n",
    "    return rmse"
   ]
  },
  {
   "cell_type": "code",
   "execution_count": null,
   "id": "f7836163",
   "metadata": {},
   "outputs": [],
   "source": [
    "import statsmodels.formula.api as smf \n",
    "\n",
    "linear_model = smf.ols('inflation_rate~t',data=Train).fit()\n",
    "pred_linear =  pd.Series(linear_model.predict(pd.DataFrame(Test['t'])))\n",
    "rmse_linear_model = RMSE(Test['inflation_rate'], pred_linear)\n",
    "rmse_linear_model"
   ]
  },
  {
   "cell_type": "markdown",
   "id": "d6f8154a",
   "metadata": {},
   "source": [
    "# Exponential Model"
   ]
  },
  {
   "cell_type": "code",
   "execution_count": null,
   "id": "7f0e1779",
   "metadata": {},
   "outputs": [],
   "source": [
    "Exp = smf.ols('log_rate~t',data=Train).fit()\n",
    "pred_Exp = pd.Series(Exp.predict(pd.DataFrame(Test['t'])))\n",
    "rmse_exp = RMSE(Test['inflation_rate'], np.exp(pred_Exp))\n",
    "rmse_exp"
   ]
  },
  {
   "cell_type": "markdown",
   "id": "453a5762",
   "metadata": {},
   "source": [
    "# Quadratic Model"
   ]
  },
  {
   "cell_type": "code",
   "execution_count": null,
   "id": "66a2b457",
   "metadata": {},
   "outputs": [],
   "source": [
    "Quad = smf.ols('inflation_rate~t+t_square',data=Train).fit()\n",
    "pred_Quad = pd.Series(Quad.predict(Test[[\"t\",\"t_square\"]]))\n",
    "rmse_quad_model = RMSE(Test['inflation_rate'], pred_Quad)\n",
    "rmse_quad_model"
   ]
  },
  {
   "cell_type": "markdown",
   "id": "e1652bd5",
   "metadata": {},
   "source": [
    "# Additive Seasonality model"
   ]
  },
  {
   "cell_type": "code",
   "execution_count": null,
   "id": "6255e190",
   "metadata": {},
   "outputs": [],
   "source": [
    "add_sea = smf.ols('inflation_rate~January+February+March+April+May+June+July+August+September+October+November',data=Train).fit()\n",
    "pred_add_sea = pd.Series(add_sea.predict(Test[['January','February','March','April','May','June','July','August','September','October','November']]))\n",
    "rmse_add_sea = RMSE(Test['inflation_rate'], pred_add_sea)\n",
    "rmse_add_sea"
   ]
  },
  {
   "cell_type": "markdown",
   "id": "59afd812",
   "metadata": {},
   "source": [
    "# Additive Seasonality Quadratic model"
   ]
  },
  {
   "cell_type": "code",
   "execution_count": null,
   "id": "3e343132",
   "metadata": {},
   "outputs": [],
   "source": [
    "add_sea_Quad = smf.ols('inflation_rate~t+t_square+January+February+March+April+May+June+July+August+September+October+November',data=Train).fit()\n",
    "pred_add_sea_quad = pd.Series(add_sea_Quad.predict(Test[['January','February','March','April','May','June','July','August','September','October','November','t','t_square']]))\n",
    "rmse_add_sea_quad = RMSE(Test['inflation_rate'], pred_add_sea_quad)\n",
    "rmse_add_sea_quad    "
   ]
  },
  {
   "cell_type": "markdown",
   "id": "923ba4f5",
   "metadata": {},
   "source": [
    "# Multiplicative Seasonality model"
   ]
  },
  {
   "cell_type": "code",
   "execution_count": null,
   "id": "fb532229",
   "metadata": {},
   "outputs": [],
   "source": [
    "Mul_sea = smf.ols('log_rate~January+February+March+April+May+June+July+August+September+October+November',data=Train).fit()\n",
    "pred_Mult_sea = pd.Series(Mul_sea.predict(Test))\n",
    "rmse_Mul_sea = RMSE(Test['inflation_rate'], np.exp(pred_Mult_sea))\n",
    "rmse_Mul_sea"
   ]
  },
  {
   "cell_type": "markdown",
   "id": "06b149ec",
   "metadata": {},
   "source": [
    "# Multiplicative Addictive Seasonality Model"
   ]
  },
  {
   "cell_type": "code",
   "execution_count": null,
   "id": "ec35a071",
   "metadata": {},
   "outputs": [],
   "source": [
    "Mul_Add_sea = smf.ols('log_rate~t+January+February+March+April+May+June+July+August+September+October+November',data = Train).fit()\n",
    "pred_Mul_add_sea = pd.Series(Mul_Add_sea.predict(Test))\n",
    "rmse_Mul_add_sea = RMSE(Test['inflation_rate'], np.exp(pred_Mul_add_sea))\n",
    "rmse_Mul_add_sea"
   ]
  },
  {
   "cell_type": "markdown",
   "id": "f02241bb",
   "metadata": {},
   "source": [
    "# DATA DRIVEN METHODS"
   ]
  },
  {
   "cell_type": "code",
   "execution_count": null,
   "id": "98782ab5",
   "metadata": {},
   "outputs": [],
   "source": [
    "from statsmodels.tsa.holtwinters import SimpleExpSmoothing # SES\n",
    "from statsmodels.tsa.holtwinters import Holt # Holts Exponential Smoothing\n",
    "from statsmodels.tsa.holtwinters import ExponentialSmoothing "
   ]
  },
  {
   "cell_type": "markdown",
   "id": "3974458b",
   "metadata": {},
   "source": [
    "# Simple Exponential Method"
   ]
  },
  {
   "cell_type": "code",
   "execution_count": null,
   "id": "5c481674",
   "metadata": {},
   "outputs": [],
   "source": [
    "ses_model = SimpleExpSmoothing(Train[\"inflation_rate\"]).fit(smoothing_level=0.2)\n",
    "pred_ses = ses_model.predict(start = Test.index[0],end = Test.index[-1])\n",
    "rmse_ses = RMSE(Test.inflation_rate, pred_ses)\n",
    "rmse_ses"
   ]
  },
  {
   "cell_type": "markdown",
   "id": "bf752fab",
   "metadata": {},
   "source": [
    "# Holt Method"
   ]
  },
  {
   "cell_type": "code",
   "execution_count": null,
   "id": "17f95ec8",
   "metadata": {},
   "outputs": [],
   "source": [
    "hw_model = Holt(Train[\"inflation_rate\"]).fit()\n",
    "pred_hw = hw_model.predict(start = Test.index[0],end = Test.index[-1])\n",
    "rmse_hw = RMSE(Test.inflation_rate, pred_hw)\n",
    "rmse_hw"
   ]
  },
  {
   "cell_type": "markdown",
   "id": "84800e1f",
   "metadata": {},
   "source": [
    "# Holts winter exponential smoothing with additive seasonality and additive trend"
   ]
  },
  {
   "cell_type": "code",
   "execution_count": null,
   "id": "20c1ee07",
   "metadata": {},
   "outputs": [],
   "source": [
    "hwe_model_add_add = ExponentialSmoothing(Train[\"inflation_rate\"],seasonal=\"add\",trend=\"add\",seasonal_periods=12).fit()\n",
    "pred_hwe_add_add = hwe_model_add_add.predict(start = Test.index[0],end = Test.index[-1])\n",
    "rmse_hwe_add_add = RMSE(Test.inflation_rate, pred_hwe_add_add)\n",
    "rmse_hwe_add_add"
   ]
  },
  {
   "cell_type": "markdown",
   "id": "8a299874",
   "metadata": {},
   "source": [
    "# Holts winter exponential smoothing with additive seasonality and additive trend"
   ]
  },
  {
   "cell_type": "code",
   "execution_count": null,
   "id": "14223d84",
   "metadata": {},
   "outputs": [],
   "source": [
    "hwe_model_mul_add = ExponentialSmoothing(Train[\"inflation_rate\"],seasonal=\"mul\",trend=\"add\",seasonal_periods=12).fit() \n",
    "pred_hwe_mul_add = hwe_model_mul_add.predict(start = Test.index[0],end = Test.index[-1])\n",
    "rmse_hwe_mul_add = RMSE(Test.inflation_rate, pred_hwe_mul_add)\n",
    "rmse_hwe_mul_add"
   ]
  },
  {
   "cell_type": "markdown",
   "id": "9fcd3e84",
   "metadata": {},
   "source": [
    "# P D Q ORDER FOR ARIMA MODEL"
   ]
  },
  {
   "cell_type": "code",
   "execution_count": 151,
   "id": "d7c9518f",
   "metadata": {},
   "outputs": [
    {
     "name": "stdout",
     "output_type": "stream",
     "text": [
      "ARIMA(0, 0, 0) RMSE=3.694\n",
      "ARIMA(0, 0, 1) RMSE=1.853\n",
      "ARIMA(0, 0, 2) RMSE=0.993\n",
      "ARIMA(0, 1, 0) RMSE=0.145\n",
      "ARIMA(0, 1, 1) RMSE=0.091\n",
      "ARIMA(0, 1, 2) RMSE=0.075\n",
      "ARIMA(0, 2, 0) RMSE=0.060\n",
      "ARIMA(0, 2, 1) RMSE=0.060\n",
      "ARIMA(0, 2, 2) RMSE=0.060\n",
      "ARIMA(1, 0, 0) RMSE=0.147\n",
      "ARIMA(1, 0, 1) RMSE=0.093\n",
      "ARIMA(1, 0, 2) RMSE=0.078\n",
      "ARIMA(1, 1, 0) RMSE=0.056\n",
      "ARIMA(1, 1, 1) RMSE=0.056\n",
      "ARIMA(1, 1, 2) RMSE=0.056\n",
      "ARIMA(1, 2, 0) RMSE=0.060\n",
      "ARIMA(1, 2, 1) RMSE=0.060\n",
      "ARIMA(1, 2, 2) RMSE=0.057\n",
      "ARIMA(2, 0, 0) RMSE=0.073\n",
      "ARIMA(2, 0, 1) RMSE=0.073\n",
      "ARIMA(2, 0, 2) RMSE=0.074\n",
      "ARIMA(2, 1, 0) RMSE=0.056\n",
      "ARIMA(2, 1, 1) RMSE=0.065\n",
      "ARIMA(2, 1, 2) RMSE=0.066\n",
      "ARIMA(2, 2, 0) RMSE=0.060\n",
      "ARIMA(2, 2, 1) RMSE=0.060\n",
      "ARIMA(2, 2, 2) RMSE=0.059\n",
      "ARIMA(4, 0, 0) RMSE=0.073\n",
      "ARIMA(4, 0, 1) RMSE=0.074\n",
      "ARIMA(4, 0, 2) RMSE=0.074\n",
      "ARIMA(4, 1, 0) RMSE=0.057\n",
      "ARIMA(4, 1, 1) RMSE=0.065\n",
      "ARIMA(4, 1, 2) RMSE=0.066\n",
      "ARIMA(4, 2, 0) RMSE=0.060\n",
      "ARIMA(4, 2, 1) RMSE=0.060\n",
      "ARIMA(4, 2, 2) RMSE=0.060\n",
      "ARIMA(6, 0, 0) RMSE=0.073\n",
      "ARIMA(6, 0, 1) RMSE=0.073\n",
      "ARIMA(6, 0, 2) RMSE=0.073\n",
      "ARIMA(6, 1, 0) RMSE=0.057\n",
      "ARIMA(6, 1, 1) RMSE=0.065\n",
      "ARIMA(6, 1, 2) RMSE=0.064\n",
      "ARIMA(6, 2, 0) RMSE=0.060\n",
      "ARIMA(6, 2, 1) RMSE=0.060\n",
      "ARIMA(6, 2, 2) RMSE=0.060\n",
      "ARIMA(8, 0, 0) RMSE=0.071\n",
      "ARIMA(8, 0, 1) RMSE=0.070\n",
      "ARIMA(8, 0, 2) RMSE=0.068\n",
      "ARIMA(8, 1, 0) RMSE=0.058\n",
      "ARIMA(8, 1, 1) RMSE=0.063\n",
      "ARIMA(8, 1, 2) RMSE=0.063\n",
      "ARIMA(8, 2, 0) RMSE=0.060\n",
      "ARIMA(8, 2, 1) RMSE=0.060\n",
      "ARIMA(8, 2, 2) RMSE=0.060\n",
      "ARIMA(10, 0, 0) RMSE=0.069\n",
      "ARIMA(10, 0, 1) RMSE=0.055\n",
      "ARIMA(10, 0, 2) RMSE=0.055\n",
      "ARIMA(10, 1, 0) RMSE=0.061\n",
      "ARIMA(10, 1, 1) RMSE=0.058\n",
      "ARIMA(10, 1, 2) RMSE=0.060\n",
      "ARIMA(10, 2, 0) RMSE=0.060\n",
      "ARIMA(10, 2, 1) RMSE=0.060\n",
      "ARIMA(10, 2, 2) RMSE=0.060\n",
      "Best ARIMA(10, 0, 2) RMSE=0.055\n"
     ]
    }
   ],
   "source": [
    "# grid search ARIMA parameters for time series\n",
    "import warnings\n",
    "from math import sqrt\n",
    "from pandas import read_csv\n",
    "from pandas import datetime\n",
    "from statsmodels.tsa.arima.model import ARIMA\n",
    "from sklearn.metrics import mean_squared_error\n",
    " \n",
    "# evaluate an ARIMA model for a given order (p,d,q)\n",
    "def evaluate_arima_model(X, arima_order):\n",
    "    # prepare training dataset\n",
    "    train_size = int(len(X) * 0.66)\n",
    "    train, test = X[0:train_size], X[train_size:]\n",
    "    history = [x for x in train]\n",
    "    # make predictions\n",
    "    predictions = list()\n",
    "    for t in range(len(test)):\n",
    "        model = ARIMA(history, order=arima_order)\n",
    "        model_fit = model.fit()\n",
    "        yhat = model_fit.forecast()[0]\n",
    "        predictions.append(yhat)\n",
    "        history.append(test[t])\n",
    "    # calculate out of sample error\n",
    "    rmse = sqrt(mean_squared_error(test, predictions))\n",
    "    return rmse\n",
    " \n",
    "# evaluate combinations of p, d and q values for an ARIMA model\n",
    "def evaluate_models(dataset, p_values, d_values, q_values):\n",
    "    dataset = dataset.astype('float32')\n",
    "    best_score, best_cfg = float(\"inf\"), None\n",
    "    for p in p_values:\n",
    "        for d in d_values:\n",
    "            for q in q_values:\n",
    "                order = (p,d,q)\n",
    "                try:\n",
    "                    rmse = evaluate_arima_model(dataset, order)\n",
    "                    if rmse < best_score:\n",
    "                        best_score, best_cfg = rmse, order\n",
    "                    print('ARIMA%s RMSE=%.3f' % (order,rmse))\n",
    "                except:\n",
    "                    continue\n",
    "    print('Best ARIMA%s RMSE=%.3f' % (best_cfg, best_score))\n",
    " \n",
    "train = read_csv('dataset.csv', header=0, index_col=0, parse_dates=True, squeeze=True,)\n",
    "# evaluate parameters\n",
    "p_values = [0, 1, 2, 4, 6, 8, 10]\n",
    "d_values = range(0, 3)\n",
    "q_values = range(0, 3)\n",
    "warnings.filterwarnings(\"ignore\")\n",
    "evaluate_models(train.values, p_values, d_values, q_values)"
   ]
  },
  {
   "cell_type": "markdown",
   "id": "1c20d3d4",
   "metadata": {},
   "source": [
    "# RMSE SCORES FOR ALL MODELS"
   ]
  },
  {
   "cell_type": "code",
   "execution_count": null,
   "id": "67710ecd",
   "metadata": {},
   "outputs": [],
   "source": [
    "Arima_rmse=3.053524040082059\n",
    "rmse_prophet_model=2.8906310978564043"
   ]
  },
  {
   "cell_type": "code",
   "execution_count": 47,
   "id": "d1c1704e",
   "metadata": {},
   "outputs": [],
   "source": [
    "list = [['Simple Exponential Method',rmse_ses], ['Holt method',rmse_hw],\n",
    "          ['HW exp smoothing add',rmse_hwe_add_add],['HW exp smoothing mult',rmse_hwe_mul_add],\n",
    "          ['Linear ModeL',rmse_linear_model],['Exp model',rmse_exp],['Quad model',rmse_quad_model],\n",
    "          ['add seasonality',rmse_add_sea],['Quad add seasonality',rmse_add_sea_quad],\n",
    "          ['Mult Seasonality',rmse_Mul_sea],['Mult add seasonality',rmse_Mul_add_sea],['ARIMA_MODEL',Arima_rmse],['FB_PROPHET',rmse_prophet_model]]"
   ]
  },
  {
   "cell_type": "code",
   "execution_count": 48,
   "id": "3e983f2c",
   "metadata": {},
   "outputs": [
    {
     "data": {
      "text/html": [
       "<div>\n",
       "<style scoped>\n",
       "    .dataframe tbody tr th:only-of-type {\n",
       "        vertical-align: middle;\n",
       "    }\n",
       "\n",
       "    .dataframe tbody tr th {\n",
       "        vertical-align: top;\n",
       "    }\n",
       "\n",
       "    .dataframe thead th {\n",
       "        text-align: right;\n",
       "    }\n",
       "</style>\n",
       "<table border=\"1\" class=\"dataframe\">\n",
       "  <thead>\n",
       "    <tr style=\"text-align: right;\">\n",
       "      <th></th>\n",
       "      <th>Model</th>\n",
       "      <th>RMSE_Value</th>\n",
       "    </tr>\n",
       "  </thead>\n",
       "  <tbody>\n",
       "    <tr>\n",
       "      <th>9</th>\n",
       "      <td>Mult Seasonality</td>\n",
       "      <td>2.804364</td>\n",
       "    </tr>\n",
       "    <tr>\n",
       "      <th>12</th>\n",
       "      <td>FB_PROPHET</td>\n",
       "      <td>2.890631</td>\n",
       "    </tr>\n",
       "    <tr>\n",
       "      <th>7</th>\n",
       "      <td>add seasonality</td>\n",
       "      <td>2.935313</td>\n",
       "    </tr>\n",
       "    <tr>\n",
       "      <th>11</th>\n",
       "      <td>ARIMA_MODEL</td>\n",
       "      <td>3.053524</td>\n",
       "    </tr>\n",
       "    <tr>\n",
       "      <th>6</th>\n",
       "      <td>Quad model</td>\n",
       "      <td>3.268556</td>\n",
       "    </tr>\n",
       "    <tr>\n",
       "      <th>8</th>\n",
       "      <td>Quad add seasonality</td>\n",
       "      <td>3.279261</td>\n",
       "    </tr>\n",
       "    <tr>\n",
       "      <th>4</th>\n",
       "      <td>Linear ModeL</td>\n",
       "      <td>3.293238</td>\n",
       "    </tr>\n",
       "    <tr>\n",
       "      <th>5</th>\n",
       "      <td>Exp model</td>\n",
       "      <td>3.368274</td>\n",
       "    </tr>\n",
       "    <tr>\n",
       "      <th>10</th>\n",
       "      <td>Mult add seasonality</td>\n",
       "      <td>3.373431</td>\n",
       "    </tr>\n",
       "    <tr>\n",
       "      <th>0</th>\n",
       "      <td>Simple Exponential Method</td>\n",
       "      <td>4.288232</td>\n",
       "    </tr>\n",
       "    <tr>\n",
       "      <th>3</th>\n",
       "      <td>HW exp smoothing mult</td>\n",
       "      <td>25.710598</td>\n",
       "    </tr>\n",
       "    <tr>\n",
       "      <th>1</th>\n",
       "      <td>Holt method</td>\n",
       "      <td>28.028149</td>\n",
       "    </tr>\n",
       "    <tr>\n",
       "      <th>2</th>\n",
       "      <td>HW exp smoothing add</td>\n",
       "      <td>28.087759</td>\n",
       "    </tr>\n",
       "  </tbody>\n",
       "</table>\n",
       "</div>"
      ],
      "text/plain": [
       "                        Model  RMSE_Value\n",
       "9            Mult Seasonality    2.804364\n",
       "12                 FB_PROPHET    2.890631\n",
       "7             add seasonality    2.935313\n",
       "11                ARIMA_MODEL    3.053524\n",
       "6                  Quad model    3.268556\n",
       "8        Quad add seasonality    3.279261\n",
       "4                Linear ModeL    3.293238\n",
       "5                   Exp model    3.368274\n",
       "10       Mult add seasonality    3.373431\n",
       "0   Simple Exponential Method    4.288232\n",
       "3       HW exp smoothing mult   25.710598\n",
       "1                 Holt method   28.028149\n",
       "2        HW exp smoothing add   28.087759"
      ]
     },
     "execution_count": 48,
     "metadata": {},
     "output_type": "execute_result"
    }
   ],
   "source": [
    "df = pd.DataFrame(list, columns =['Model', 'RMSE_Value']) \n",
    "df.sort_values(['RMSE_Value'])"
   ]
  },
  {
   "cell_type": "code",
   "execution_count": null,
   "id": "1116254a",
   "metadata": {},
   "outputs": [],
   "source": []
  }
 ],
 "metadata": {
  "kernelspec": {
   "display_name": "Python 3 (ipykernel)",
   "language": "python",
   "name": "python3"
  },
  "language_info": {
   "codemirror_mode": {
    "name": "ipython",
    "version": 3
   },
   "file_extension": ".py",
   "mimetype": "text/x-python",
   "name": "python",
   "nbconvert_exporter": "python",
   "pygments_lexer": "ipython3",
   "version": "3.9.7"
  }
 },
 "nbformat": 4,
 "nbformat_minor": 5
}
